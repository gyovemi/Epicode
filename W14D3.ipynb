{
 "cells": [
  {
   "cell_type": "code",
   "execution_count": null,
   "metadata": {},
   "outputs": [],
   "source": [
    "nome_scuola = \"Epicode\"\n",
    "indice = 0\n",
    "\n",
    "while indice < len(nome_scuola):\n",
    "    print(nome_scuola[indice])\n",
    "    indice += 1\n"
   ]
  },
  {
   "cell_type": "code",
   "execution_count": null,
   "metadata": {},
   "outputs": [],
   "source": [
    "x = 0\n",
    "\n",
    "while x <= 20:\n",
    "    print(x)\n",
    "    x += 1"
   ]
  },
  {
   "cell_type": "code",
   "execution_count": null,
   "metadata": {},
   "outputs": [],
   "source": [
    "x = 0\n",
    "base = 2\n",
    "while x <= 10:\n",
    "    print(base ** x)\n",
    "    x += 1"
   ]
  },
  {
   "cell_type": "code",
   "execution_count": null,
   "metadata": {},
   "outputs": [],
   "source": [
    "esp_max = int(input(\"Scrivi un numero \"))\n",
    "esp = 0\n",
    "base = 2\n",
    "while esp <= esp_max:\n",
    "    print(base ** esp)\n",
    "    esp += 1"
   ]
  },
  {
   "cell_type": "code",
   "execution_count": null,
   "metadata": {},
   "outputs": [],
   "source": [
    "esp = 0\n",
    "base = 2\n",
    "while res <= 25000:\n",
    "    res = base ** esp\n",
    "    print(res)\n",
    "    esp += 1"
   ]
  },
  {
   "cell_type": "code",
   "execution_count": null,
   "metadata": {},
   "outputs": [],
   "source": [
    "messaggio = input(\"Scrivi qualcosa \")\n",
    "if len(messaggio) >= 6:\n",
    "    print(f\"{messaggio[:3]}...{messaggio[-3:]}\")\n",
    "else:\n",
    "    print(\"Valore non adeguato\")"
   ]
  },
  {
   "cell_type": "code",
   "execution_count": null,
   "metadata": {},
   "outputs": [],
   "source": [
    "numero = int(input(\"Scrivi un numero \"))\n",
    "print(numero)\n",
    "fattori = []\n",
    "i = 2\n",
    "while i <= numero:\n",
    "    if numero % i == 0:\n",
    "        fattori.append(i)\n",
    "        numero //= i\n",
    "    else:\n",
    "        i += 1\n",
    "print(fattori)\n"
   ]
  }
 ],
 "metadata": {
  "kernelspec": {
   "display_name": "base",
   "language": "python",
   "name": "python3"
  },
  "language_info": {
   "codemirror_mode": {
    "name": "ipython",
    "version": 3
   },
   "file_extension": ".py",
   "mimetype": "text/x-python",
   "name": "python",
   "nbconvert_exporter": "python",
   "pygments_lexer": "ipython3",
   "version": "3.11.5"
  }
 },
 "nbformat": 4,
 "nbformat_minor": 2
}
